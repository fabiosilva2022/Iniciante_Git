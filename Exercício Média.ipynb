{
  "nbformat": 4,
  "nbformat_minor": 0,
  "metadata": {
    "colab": {
      "provenance": [],
      "authorship_tag": "ABX9TyPLQMEZaGyuftBc4waX0bp9",
      "include_colab_link": true
    },
    "kernelspec": {
      "name": "python3",
      "display_name": "Python 3"
    },
    "language_info": {
      "name": "python"
    }
  },
  "cells": [
    {
      "cell_type": "markdown",
      "metadata": {
        "id": "view-in-github",
        "colab_type": "text"
      },
      "source": [
        "<a href=\"https://colab.research.google.com/github/fabiosilva2022/Iniciante_Git/blob/main/Exerc%C3%ADcio%20M%C3%A9dia.ipynb\" target=\"_parent\"><img src=\"https://colab.research.google.com/assets/colab-badge.svg\" alt=\"Open In Colab\"/></a>"
      ]
    },
    {
      "cell_type": "code",
      "execution_count": 2,
      "metadata": {
        "colab": {
          "base_uri": "https://localhost:8080/"
        },
        "id": "W-K8R0WNj1iG",
        "outputId": "84a52ed2-f5c7-49aa-e4db-84464ef5a21b"
      },
      "outputs": [
        {
          "output_type": "stream",
          "name": "stdout",
          "text": [
            "[8, 9, 10, 11]\n"
          ]
        }
      ],
      "source": [
        "grade = [\n",
        "    [0,1,2,3],\n",
        "    [4,5,6,7],\n",
        "    [8,9,10,11],\n",
        "    [12,13,14,15]\n",
        "]\n",
        "linha = grade [2]\n",
        "elemento = grade [2][3]\n",
        "print (grade[2])"
      ]
    },
    {
      "cell_type": "code",
      "source": [
        "grade = [\n",
        "    [0,1,2,3],\n",
        "    [4,5,6,7],\n",
        "    [8,9,10,11],\n",
        "    [12,13,14,15]\n",
        "]\n",
        "elemento = grade [2][3]\n",
        "print(elemento)"
      ],
      "metadata": {
        "colab": {
          "base_uri": "https://localhost:8080/"
        },
        "id": "G2CnTvILk70g",
        "outputId": "d4a850f9-cd18-4e07-8ab3-cf9d00065825"
      },
      "execution_count": 3,
      "outputs": [
        {
          "output_type": "stream",
          "name": "stdout",
          "text": [
            "11\n"
          ]
        }
      ]
    },
    {
      "cell_type": "code",
      "source": [
        "grade = [\n",
        "    [0,1,2,3],\n",
        "    [4,5,6,7],\n",
        "    [8,9,10,11],\n",
        "    [12,13,14,15]\n",
        "]\n",
        "elemento = grade [2][3]\n",
        "print (grade[1])"
      ],
      "metadata": {
        "colab": {
          "base_uri": "https://localhost:8080/"
        },
        "id": "hILJbYTPk-vR",
        "outputId": "8b92bf53-e5cb-4532-9e9e-c693c7b83f25"
      },
      "execution_count": 4,
      "outputs": [
        {
          "output_type": "stream",
          "name": "stdout",
          "text": [
            "[4, 5, 6, 7]\n"
          ]
        }
      ]
    },
    {
      "cell_type": "code",
      "source": [
        "##----------------------- Maior, Menor e Média -----------------------------\n",
        "#Crie uma lista com números quaisquer que você quiser, que possua\n",
        "#pelo menos 10 elementos.\n",
        "#Então, atravessando esta lista, calcule qual o maior elemento, qual o\n",
        "#menor elemento e qual a média dos valores do vetor.\n",
        "\n",
        "lista = []\n",
        "maior = 0 \n",
        "menor = 0\n",
        "soma = 0\n",
        "for c in range(0,10):\n",
        "  lista.append(int(input(f'Digite um número na Posição {c}: ')))\n",
        "  if c == 0:\n",
        "    maior = menor = lista[c]\n",
        "  else:\n",
        "    if lista [c] > maior:\n",
        "      maior = lista[c]  \n",
        "    if lista [c] < menor:\n",
        "      menor = lista[c]      \n",
        "for i in lista:\n",
        "  soma += i\n",
        "media = soma/10\n",
        "print(\"O maior valor é\",maior)\n",
        "print(\"O menor valor é\",menor)\n",
        "print(\"A media dos valores é\",media)"
      ],
      "metadata": {
        "id": "ULvx3qhGmCNs"
      },
      "execution_count": null,
      "outputs": []
    }
  ]
}